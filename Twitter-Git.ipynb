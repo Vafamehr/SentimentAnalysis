{
 "cells": [
  {
   "cell_type": "code",
   "execution_count": 2,
   "metadata": {},
   "outputs": [
    {
     "name": "stderr",
     "output_type": "stream",
     "text": [
      "C:\\Users\\avafa\\Anaconda3\\lib\\site-packages\\gensim\\utils.py:1197: UserWarning: detected Windows; aliasing chunkize to chunkize_serial\n",
      "  warnings.warn(\"detected Windows; aliasing chunkize to chunkize_serial\")\n",
      "Using TensorFlow backend.\n"
     ]
    }
   ],
   "source": [
    "import pandas as pd\n",
    "import numpy as np\n",
    "import matplotlib.pyplot as plt\n",
    "%matplotlib inline\n",
    "\n",
    "import nltk\n",
    "from nltk.corpus import stopwords\n",
    "from nltk.stem import PorterStemmer\n",
    "from nltk.stem import WordNetLemmatizer\n",
    "from nltk.corpus import wordnet\n",
    "\n",
    "import gensim\n",
    "import re\n",
    "import string\n",
    "from collections import Counter\n",
    "from sklearn.feature_extraction.text import TfidfVectorizer,CountVectorizer,HashingVectorizer\n",
    "from sklearn import model_selection\n",
    "from sklearn import model_selection, preprocessing, linear_model, naive_bayes, metrics, svm\n",
    "from gensim.models import Word2Vec\n",
    "from sklearn import decomposition, ensemble\n",
    "import xgboost\n",
    "import warnings\n",
    "warnings.filterwarnings('ignore')\n",
    "\n",
    "from keras.preprocessing.text import one_hot\n",
    "from keras.regularizers import l1,l2,l1_l2\n",
    "from keras.utils import np_utils\n",
    "from keras.models import Sequential\n",
    "from keras.layers import Dense,Flatten,Dropout, GaussianNoise\n",
    "from keras.layers import LSTM,GRU\n",
    "from keras.layers.embeddings import Embedding\n",
    "from keras.preprocessing import sequence\n",
    "from keras.layers.convolutional import Conv1D\n",
    "from keras.layers.convolutional import MaxPooling1D\n",
    "from keras.layers import TimeDistributed\n",
    "from keras.layers import ConvLSTM2D,SpatialDropout1D\n",
    "from keras.callbacks import ModelCheckpoint\n",
    "from keras.preprocessing.sequence import pad_sequences\n",
    "\n",
    "import keras\n",
    "from keras.optimizers import SGD\n",
    "from sklearn.decomposition import PCA\n",
    "from sklearn.discriminant_analysis import LinearDiscriminantAnalysis\n",
    "\n",
    "from wordcloud import WordCloud, STOPWORDS"
   ]
  },
  {
   "cell_type": "code",
   "execution_count": 3,
   "metadata": {},
   "outputs": [],
   "source": [
    "file_path = r'D:\\Tweet Sentiment Extraction'\n",
    "train_path = r'D:\\Tweet Sentiment Extraction\\train.csv'\n",
    "test_path = r'D:\\Tweet Sentiment Extraction\\test.csv'\n",
    "sub_path = r'D:\\Tweet Sentiment Extraction\\sample_submission.csv'"
   ]
  },
  {
   "cell_type": "code",
   "execution_count": 4,
   "metadata": {},
   "outputs": [],
   "source": [
    "train = pd.read_csv(train_path)\n",
    "test = pd.read_csv(test_path)\n",
    "sub = pd.read_csv(sub_path)"
   ]
  },
  {
   "cell_type": "code",
   "execution_count": 5,
   "metadata": {},
   "outputs": [
    {
     "data": {
      "text/html": [
       "<div>\n",
       "<style scoped>\n",
       "    .dataframe tbody tr th:only-of-type {\n",
       "        vertical-align: middle;\n",
       "    }\n",
       "\n",
       "    .dataframe tbody tr th {\n",
       "        vertical-align: top;\n",
       "    }\n",
       "\n",
       "    .dataframe thead th {\n",
       "        text-align: right;\n",
       "    }\n",
       "</style>\n",
       "<table border=\"1\" class=\"dataframe\">\n",
       "  <thead>\n",
       "    <tr style=\"text-align: right;\">\n",
       "      <th></th>\n",
       "      <th>textID</th>\n",
       "      <th>text</th>\n",
       "      <th>selected_text</th>\n",
       "      <th>sentiment</th>\n",
       "    </tr>\n",
       "  </thead>\n",
       "  <tbody>\n",
       "    <tr>\n",
       "      <th>0</th>\n",
       "      <td>cb774db0d1</td>\n",
       "      <td>I`d have responded, if I were going</td>\n",
       "      <td>I`d have responded, if I were going</td>\n",
       "      <td>neutral</td>\n",
       "    </tr>\n",
       "    <tr>\n",
       "      <th>1</th>\n",
       "      <td>549e992a42</td>\n",
       "      <td>Sooo SAD I will miss you here in San Diego!!!</td>\n",
       "      <td>Sooo SAD</td>\n",
       "      <td>negative</td>\n",
       "    </tr>\n",
       "    <tr>\n",
       "      <th>2</th>\n",
       "      <td>088c60f138</td>\n",
       "      <td>my boss is bullying me...</td>\n",
       "      <td>bullying me</td>\n",
       "      <td>negative</td>\n",
       "    </tr>\n",
       "    <tr>\n",
       "      <th>3</th>\n",
       "      <td>9642c003ef</td>\n",
       "      <td>what interview! leave me alone</td>\n",
       "      <td>leave me alone</td>\n",
       "      <td>negative</td>\n",
       "    </tr>\n",
       "    <tr>\n",
       "      <th>4</th>\n",
       "      <td>358bd9e861</td>\n",
       "      <td>Sons of ****, why couldn`t they put them on t...</td>\n",
       "      <td>Sons of ****,</td>\n",
       "      <td>negative</td>\n",
       "    </tr>\n",
       "  </tbody>\n",
       "</table>\n",
       "</div>"
      ],
      "text/plain": [
       "       textID                                               text  \\\n",
       "0  cb774db0d1                I`d have responded, if I were going   \n",
       "1  549e992a42      Sooo SAD I will miss you here in San Diego!!!   \n",
       "2  088c60f138                          my boss is bullying me...   \n",
       "3  9642c003ef                     what interview! leave me alone   \n",
       "4  358bd9e861   Sons of ****, why couldn`t they put them on t...   \n",
       "\n",
       "                         selected_text sentiment  \n",
       "0  I`d have responded, if I were going   neutral  \n",
       "1                             Sooo SAD  negative  \n",
       "2                          bullying me  negative  \n",
       "3                       leave me alone  negative  \n",
       "4                        Sons of ****,  negative  "
      ]
     },
     "execution_count": 5,
     "metadata": {},
     "output_type": "execute_result"
    }
   ],
   "source": [
    "train.head()"
   ]
  },
  {
   "cell_type": "code",
   "execution_count": 6,
   "metadata": {},
   "outputs": [
    {
     "data": {
      "text/plain": [
       "textID           0\n",
       "text             1\n",
       "selected_text    1\n",
       "sentiment        0\n",
       "dtype: int64"
      ]
     },
     "execution_count": 6,
     "metadata": {},
     "output_type": "execute_result"
    }
   ],
   "source": [
    "train.isnull().sum()"
   ]
  },
  {
   "cell_type": "code",
   "execution_count": 7,
   "metadata": {},
   "outputs": [
    {
     "data": {
      "text/plain": [
       "[314]"
      ]
     },
     "execution_count": 7,
     "metadata": {},
     "output_type": "execute_result"
    }
   ],
   "source": [
    "train[train.text.isnull()].index.tolist()"
   ]
  },
  {
   "cell_type": "code",
   "execution_count": 8,
   "metadata": {},
   "outputs": [
    {
     "data": {
      "text/plain": [
       "nan"
      ]
     },
     "execution_count": 8,
     "metadata": {},
     "output_type": "execute_result"
    }
   ],
   "source": [
    "train.text.iloc[314]"
   ]
  },
  {
   "cell_type": "code",
   "execution_count": 9,
   "metadata": {},
   "outputs": [],
   "source": [
    "train.dropna(inplace = True)"
   ]
  },
  {
   "cell_type": "code",
   "execution_count": 10,
   "metadata": {},
   "outputs": [
    {
     "data": {
      "text/html": [
       "<div>\n",
       "<style scoped>\n",
       "    .dataframe tbody tr th:only-of-type {\n",
       "        vertical-align: middle;\n",
       "    }\n",
       "\n",
       "    .dataframe tbody tr th {\n",
       "        vertical-align: top;\n",
       "    }\n",
       "\n",
       "    .dataframe thead th {\n",
       "        text-align: right;\n",
       "    }\n",
       "</style>\n",
       "<table border=\"1\" class=\"dataframe\">\n",
       "  <thead>\n",
       "    <tr style=\"text-align: right;\">\n",
       "      <th></th>\n",
       "      <th>textID</th>\n",
       "      <th>text</th>\n",
       "      <th>sentiment</th>\n",
       "    </tr>\n",
       "  </thead>\n",
       "  <tbody>\n",
       "    <tr>\n",
       "      <th>0</th>\n",
       "      <td>f87dea47db</td>\n",
       "      <td>Last session of the day  http://twitpic.com/67ezh</td>\n",
       "      <td>neutral</td>\n",
       "    </tr>\n",
       "    <tr>\n",
       "      <th>1</th>\n",
       "      <td>96d74cb729</td>\n",
       "      <td>Shanghai is also really exciting (precisely -...</td>\n",
       "      <td>positive</td>\n",
       "    </tr>\n",
       "    <tr>\n",
       "      <th>2</th>\n",
       "      <td>eee518ae67</td>\n",
       "      <td>Recession hit Veronique Branquinho, she has to...</td>\n",
       "      <td>negative</td>\n",
       "    </tr>\n",
       "    <tr>\n",
       "      <th>3</th>\n",
       "      <td>01082688c6</td>\n",
       "      <td>happy bday!</td>\n",
       "      <td>positive</td>\n",
       "    </tr>\n",
       "    <tr>\n",
       "      <th>4</th>\n",
       "      <td>33987a8ee5</td>\n",
       "      <td>http://twitpic.com/4w75p - I like it!!</td>\n",
       "      <td>positive</td>\n",
       "    </tr>\n",
       "  </tbody>\n",
       "</table>\n",
       "</div>"
      ],
      "text/plain": [
       "       textID                                               text sentiment\n",
       "0  f87dea47db  Last session of the day  http://twitpic.com/67ezh   neutral\n",
       "1  96d74cb729   Shanghai is also really exciting (precisely -...  positive\n",
       "2  eee518ae67  Recession hit Veronique Branquinho, she has to...  negative\n",
       "3  01082688c6                                        happy bday!  positive\n",
       "4  33987a8ee5             http://twitpic.com/4w75p - I like it!!  positive"
      ]
     },
     "execution_count": 10,
     "metadata": {},
     "output_type": "execute_result"
    }
   ],
   "source": [
    "test.head()"
   ]
  },
  {
   "cell_type": "code",
   "execution_count": 11,
   "metadata": {},
   "outputs": [
    {
     "data": {
      "text/plain": [
       "textID       0\n",
       "text         0\n",
       "sentiment    0\n",
       "dtype: int64"
      ]
     },
     "execution_count": 11,
     "metadata": {},
     "output_type": "execute_result"
    }
   ],
   "source": [
    "test.isnull().sum()"
   ]
  },
  {
   "cell_type": "code",
   "execution_count": 12,
   "metadata": {},
   "outputs": [
    {
     "data": {
      "text/html": [
       "<div>\n",
       "<style scoped>\n",
       "    .dataframe tbody tr th:only-of-type {\n",
       "        vertical-align: middle;\n",
       "    }\n",
       "\n",
       "    .dataframe tbody tr th {\n",
       "        vertical-align: top;\n",
       "    }\n",
       "\n",
       "    .dataframe thead th {\n",
       "        text-align: right;\n",
       "    }\n",
       "</style>\n",
       "<table border=\"1\" class=\"dataframe\">\n",
       "  <thead>\n",
       "    <tr style=\"text-align: right;\">\n",
       "      <th></th>\n",
       "      <th>textID</th>\n",
       "      <th>text</th>\n",
       "      <th>sentiment</th>\n",
       "    </tr>\n",
       "  </thead>\n",
       "  <tbody>\n",
       "    <tr>\n",
       "      <th>0</th>\n",
       "      <td>f87dea47db</td>\n",
       "      <td>Last session of the day  http://twitpic.com/67ezh</td>\n",
       "      <td>neutral</td>\n",
       "    </tr>\n",
       "    <tr>\n",
       "      <th>1</th>\n",
       "      <td>96d74cb729</td>\n",
       "      <td>Shanghai is also really exciting (precisely -...</td>\n",
       "      <td>positive</td>\n",
       "    </tr>\n",
       "    <tr>\n",
       "      <th>2</th>\n",
       "      <td>eee518ae67</td>\n",
       "      <td>Recession hit Veronique Branquinho, she has to...</td>\n",
       "      <td>negative</td>\n",
       "    </tr>\n",
       "    <tr>\n",
       "      <th>3</th>\n",
       "      <td>01082688c6</td>\n",
       "      <td>happy bday!</td>\n",
       "      <td>positive</td>\n",
       "    </tr>\n",
       "    <tr>\n",
       "      <th>4</th>\n",
       "      <td>33987a8ee5</td>\n",
       "      <td>http://twitpic.com/4w75p - I like it!!</td>\n",
       "      <td>positive</td>\n",
       "    </tr>\n",
       "  </tbody>\n",
       "</table>\n",
       "</div>"
      ],
      "text/plain": [
       "       textID                                               text sentiment\n",
       "0  f87dea47db  Last session of the day  http://twitpic.com/67ezh   neutral\n",
       "1  96d74cb729   Shanghai is also really exciting (precisely -...  positive\n",
       "2  eee518ae67  Recession hit Veronique Branquinho, she has to...  negative\n",
       "3  01082688c6                                        happy bday!  positive\n",
       "4  33987a8ee5             http://twitpic.com/4w75p - I like it!!  positive"
      ]
     },
     "execution_count": 12,
     "metadata": {},
     "output_type": "execute_result"
    }
   ],
   "source": [
    "test.head()"
   ]
  },
  {
   "cell_type": "code",
   "execution_count": 13,
   "metadata": {},
   "outputs": [
    {
     "name": "stdout",
     "output_type": "stream",
     "text": [
      "There are 3 number of classes in train dataset\n",
      "The percent of each class in train dataset:\n"
     ]
    },
    {
     "data": {
      "text/html": [
       "<style  type=\"text/css\" >\n",
       "#T_0fc6ad5c_f778_11ea_9528_48a472bdef33row0_col0{\n",
       "            background-color:  #08306b;\n",
       "            color:  #f1f1f1;\n",
       "        }#T_0fc6ad5c_f778_11ea_9528_48a472bdef33row1_col0{\n",
       "            background-color:  #c8dcf0;\n",
       "            color:  #000000;\n",
       "        }#T_0fc6ad5c_f778_11ea_9528_48a472bdef33row2_col0{\n",
       "            background-color:  #f7fbff;\n",
       "            color:  #000000;\n",
       "        }</style><table id=\"T_0fc6ad5c_f778_11ea_9528_48a472bdef33\" ><thead>    <tr>        <th class=\"blank level0\" ></th>        <th class=\"col_heading level0 col0\" >sentiment</th>    </tr></thead><tbody>\n",
       "                <tr>\n",
       "                        <th id=\"T_0fc6ad5c_f778_11ea_9528_48a472bdef33level0_row0\" class=\"row_heading level0 row0\" >neutral</th>\n",
       "                        <td id=\"T_0fc6ad5c_f778_11ea_9528_48a472bdef33row0_col0\" class=\"data row0 col0\" >0.404549</td>\n",
       "            </tr>\n",
       "            <tr>\n",
       "                        <th id=\"T_0fc6ad5c_f778_11ea_9528_48a472bdef33level0_row1\" class=\"row_heading level0 row1\" >positive</th>\n",
       "                        <td id=\"T_0fc6ad5c_f778_11ea_9528_48a472bdef33row1_col0\" class=\"data row1 col0\" >0.312300</td>\n",
       "            </tr>\n",
       "            <tr>\n",
       "                        <th id=\"T_0fc6ad5c_f778_11ea_9528_48a472bdef33level0_row2\" class=\"row_heading level0 row2\" >negative</th>\n",
       "                        <td id=\"T_0fc6ad5c_f778_11ea_9528_48a472bdef33row2_col0\" class=\"data row2 col0\" >0.283151</td>\n",
       "            </tr>\n",
       "    </tbody></table>"
      ],
      "text/plain": [
       "<pandas.io.formats.style.Styler at 0x18d6517bc18>"
      ]
     },
     "execution_count": 13,
     "metadata": {},
     "output_type": "execute_result"
    }
   ],
   "source": [
    "classes_num = train.sentiment.nunique()\n",
    "print(\"There are {} number of classes in train dataset\".format(classes_num) )\n",
    "print(\"The percent of each class in train dataset:\")\n",
    "pd.DataFrame(train.sentiment.value_counts(normalize=True)).style.background_gradient(cmap='Blues')"
   ]
  },
  {
   "cell_type": "code",
   "execution_count": 14,
   "metadata": {},
   "outputs": [
    {
     "name": "stdout",
     "output_type": "stream",
     "text": [
      "|          |   sentiment |\n",
      "|:---------|------------:|\n",
      "| neutral  |    0.404549 |\n",
      "| positive |    0.3123   |\n",
      "| negative |    0.283151 |\n"
     ]
    }
   ],
   "source": [
    "print(pd.DataFrame(train.sentiment.value_counts(normalize=True)).to_markdown())"
   ]
  },
  {
   "cell_type": "code",
   "execution_count": 15,
   "metadata": {},
   "outputs": [
    {
     "name": "stdout",
     "output_type": "stream",
     "text": [
      "There are 3 number of classes in test dataset\n",
      "The percent of each class in test dataset:\n"
     ]
    },
    {
     "data": {
      "text/html": [
       "<style  type=\"text/css\" >\n",
       "#T_10079664_f778_11ea_9bc4_48a472bdef33row0_col0{\n",
       "            background-color:  #00441b;\n",
       "            color:  #f1f1f1;\n",
       "        }#T_10079664_f778_11ea_9bc4_48a472bdef33row1_col0{\n",
       "            background-color:  #cbeac4;\n",
       "            color:  #000000;\n",
       "        }#T_10079664_f778_11ea_9bc4_48a472bdef33row2_col0{\n",
       "            background-color:  #f7fcf5;\n",
       "            color:  #000000;\n",
       "        }</style><table id=\"T_10079664_f778_11ea_9bc4_48a472bdef33\" ><thead>    <tr>        <th class=\"blank level0\" ></th>        <th class=\"col_heading level0 col0\" >sentiment</th>    </tr></thead><tbody>\n",
       "                <tr>\n",
       "                        <th id=\"T_10079664_f778_11ea_9bc4_48a472bdef33level0_row0\" class=\"row_heading level0 row0\" >neutral</th>\n",
       "                        <td id=\"T_10079664_f778_11ea_9bc4_48a472bdef33row0_col0\" class=\"data row0 col0\" >0.404641</td>\n",
       "            </tr>\n",
       "            <tr>\n",
       "                        <th id=\"T_10079664_f778_11ea_9bc4_48a472bdef33level0_row1\" class=\"row_heading level0 row1\" >positive</th>\n",
       "                        <td id=\"T_10079664_f778_11ea_9bc4_48a472bdef33row1_col0\" class=\"data row1 col0\" >0.312111</td>\n",
       "            </tr>\n",
       "            <tr>\n",
       "                        <th id=\"T_10079664_f778_11ea_9bc4_48a472bdef33level0_row2\" class=\"row_heading level0 row2\" >negative</th>\n",
       "                        <td id=\"T_10079664_f778_11ea_9bc4_48a472bdef33row2_col0\" class=\"data row2 col0\" >0.283248</td>\n",
       "            </tr>\n",
       "    </tbody></table>"
      ],
      "text/plain": [
       "<pandas.io.formats.style.Styler at 0x18d65146c18>"
      ]
     },
     "execution_count": 15,
     "metadata": {},
     "output_type": "execute_result"
    }
   ],
   "source": [
    "classes_num = test.sentiment.nunique()\n",
    "print(\"There are {} number of classes in test dataset\".format(classes_num) )\n",
    "print(\"The percent of each class in test dataset:\")\n",
    "pd.DataFrame(test.sentiment.value_counts(normalize=True)).style.background_gradient(cmap='Greens')\n"
   ]
  },
  {
   "cell_type": "markdown",
   "metadata": {},
   "source": [
    "#### Clean text function: to remove links, numbers, punctuations (except \"****\")\n",
    "\"****\" has used in considerable number of docs mostly for taboo words"
   ]
  },
  {
   "cell_type": "code",
   "execution_count": 16,
   "metadata": {},
   "outputs": [],
   "source": [
    "def pre_process(x):\n",
    "    x = str(x).lower()\n",
    "    x = re.sub(r'https?://\\S+|www\\.\\S+', '', x) #to  remove links\n",
    "    x = re.sub('\\w*\\d\\w*', '', x) # to remove numbers\n",
    "    if \"****\" in x:\n",
    "        x = x.translate(str.maketrans('', '', string.punctuation)) ## removes any punctuations and brackets,#,@,*, _, etc,\n",
    "        x = \"****\"+ \" \"+ x\n",
    "        ## Considering that Taboo words have been substituted with \"****\"\n",
    "    else:\n",
    "        x = x.translate(str.maketrans('', '', string.punctuation)) ## removes any punctuations and brackets,#,@,*, _, etc,\n",
    "    return(x)"
   ]
  },
  {
   "cell_type": "markdown",
   "metadata": {},
   "source": [
    "### Function for preprocessing the docs: \n",
    "The docs are tokenized into words splitted by white space\n",
    "\n",
    "stopwords removed\n",
    "\n",
    "lemmatizer used to nomralize the texts\n"
   ]
  },
  {
   "cell_type": "code",
   "execution_count": 17,
   "metadata": {},
   "outputs": [],
   "source": [
    "def tokenize(x):\n",
    "    tokenizer = nltk.tokenize.WhitespaceTokenizer()\n",
    "    stop_words = set(stopwords.words('english'))\n",
    "    x = tokenizer.tokenize(x)\n",
    "    x_stop_removed = [w for w in x if not w in stop_words]\n",
    "    return x_stop_removed\n",
    "    \n"
   ]
  },
  {
   "cell_type": "code",
   "execution_count": 18,
   "metadata": {},
   "outputs": [],
   "source": [
    "train['text_clean'] = train.text.apply(pre_process)\n",
    "train['selected_text_clean'] = train.selected_text.apply(pre_process)\n",
    "train['text_words_clean'] = train.text_clean.apply(tokenize)\n",
    "train['selected_text_words_clean'] = train.selected_text_clean.apply(tokenize)\n",
    "#converting categorical classes to numerical variables\n",
    "train['label'] = train.sentiment.astype('category').cat.codes\n"
   ]
  },
  {
   "cell_type": "code",
   "execution_count": 19,
   "metadata": {},
   "outputs": [
    {
     "data": {
      "text/html": [
       "<div>\n",
       "<style scoped>\n",
       "    .dataframe tbody tr th:only-of-type {\n",
       "        vertical-align: middle;\n",
       "    }\n",
       "\n",
       "    .dataframe tbody tr th {\n",
       "        vertical-align: top;\n",
       "    }\n",
       "\n",
       "    .dataframe thead th {\n",
       "        text-align: right;\n",
       "    }\n",
       "</style>\n",
       "<table border=\"1\" class=\"dataframe\">\n",
       "  <thead>\n",
       "    <tr style=\"text-align: right;\">\n",
       "      <th></th>\n",
       "      <th>textID</th>\n",
       "      <th>text</th>\n",
       "      <th>selected_text</th>\n",
       "      <th>sentiment</th>\n",
       "      <th>text_clean</th>\n",
       "      <th>selected_text_clean</th>\n",
       "      <th>text_words_clean</th>\n",
       "      <th>selected_text_words_clean</th>\n",
       "      <th>label</th>\n",
       "    </tr>\n",
       "  </thead>\n",
       "  <tbody>\n",
       "    <tr>\n",
       "      <th>0</th>\n",
       "      <td>cb774db0d1</td>\n",
       "      <td>I`d have responded, if I were going</td>\n",
       "      <td>I`d have responded, if I were going</td>\n",
       "      <td>neutral</td>\n",
       "      <td>id have responded if i were going</td>\n",
       "      <td>id have responded if i were going</td>\n",
       "      <td>[id, responded, going]</td>\n",
       "      <td>[id, responded, going]</td>\n",
       "      <td>1</td>\n",
       "    </tr>\n",
       "    <tr>\n",
       "      <th>1</th>\n",
       "      <td>549e992a42</td>\n",
       "      <td>Sooo SAD I will miss you here in San Diego!!!</td>\n",
       "      <td>Sooo SAD</td>\n",
       "      <td>negative</td>\n",
       "      <td>sooo sad i will miss you here in san diego</td>\n",
       "      <td>sooo sad</td>\n",
       "      <td>[sooo, sad, miss, san, diego]</td>\n",
       "      <td>[sooo, sad]</td>\n",
       "      <td>0</td>\n",
       "    </tr>\n",
       "    <tr>\n",
       "      <th>2</th>\n",
       "      <td>088c60f138</td>\n",
       "      <td>my boss is bullying me...</td>\n",
       "      <td>bullying me</td>\n",
       "      <td>negative</td>\n",
       "      <td>my boss is bullying me</td>\n",
       "      <td>bullying me</td>\n",
       "      <td>[boss, bullying]</td>\n",
       "      <td>[bullying]</td>\n",
       "      <td>0</td>\n",
       "    </tr>\n",
       "    <tr>\n",
       "      <th>3</th>\n",
       "      <td>9642c003ef</td>\n",
       "      <td>what interview! leave me alone</td>\n",
       "      <td>leave me alone</td>\n",
       "      <td>negative</td>\n",
       "      <td>what interview leave me alone</td>\n",
       "      <td>leave me alone</td>\n",
       "      <td>[interview, leave, alone]</td>\n",
       "      <td>[leave, alone]</td>\n",
       "      <td>0</td>\n",
       "    </tr>\n",
       "    <tr>\n",
       "      <th>4</th>\n",
       "      <td>358bd9e861</td>\n",
       "      <td>Sons of ****, why couldn`t they put them on t...</td>\n",
       "      <td>Sons of ****,</td>\n",
       "      <td>negative</td>\n",
       "      <td>****  sons of  why couldnt they put them on th...</td>\n",
       "      <td>**** sons of</td>\n",
       "      <td>[****, sons, couldnt, put, releases, already, ...</td>\n",
       "      <td>[****, sons]</td>\n",
       "      <td>0</td>\n",
       "    </tr>\n",
       "  </tbody>\n",
       "</table>\n",
       "</div>"
      ],
      "text/plain": [
       "       textID                                               text  \\\n",
       "0  cb774db0d1                I`d have responded, if I were going   \n",
       "1  549e992a42      Sooo SAD I will miss you here in San Diego!!!   \n",
       "2  088c60f138                          my boss is bullying me...   \n",
       "3  9642c003ef                     what interview! leave me alone   \n",
       "4  358bd9e861   Sons of ****, why couldn`t they put them on t...   \n",
       "\n",
       "                         selected_text sentiment  \\\n",
       "0  I`d have responded, if I were going   neutral   \n",
       "1                             Sooo SAD  negative   \n",
       "2                          bullying me  negative   \n",
       "3                       leave me alone  negative   \n",
       "4                        Sons of ****,  negative   \n",
       "\n",
       "                                          text_clean  \\\n",
       "0                  id have responded if i were going   \n",
       "1         sooo sad i will miss you here in san diego   \n",
       "2                             my boss is bullying me   \n",
       "3                      what interview leave me alone   \n",
       "4  ****  sons of  why couldnt they put them on th...   \n",
       "\n",
       "                 selected_text_clean  \\\n",
       "0  id have responded if i were going   \n",
       "1                           sooo sad   \n",
       "2                        bullying me   \n",
       "3                     leave me alone   \n",
       "4                      **** sons of    \n",
       "\n",
       "                                    text_words_clean  \\\n",
       "0                             [id, responded, going]   \n",
       "1                      [sooo, sad, miss, san, diego]   \n",
       "2                                   [boss, bullying]   \n",
       "3                          [interview, leave, alone]   \n",
       "4  [****, sons, couldnt, put, releases, already, ...   \n",
       "\n",
       "  selected_text_words_clean  label  \n",
       "0    [id, responded, going]      1  \n",
       "1               [sooo, sad]      0  \n",
       "2                [bullying]      0  \n",
       "3            [leave, alone]      0  \n",
       "4              [****, sons]      0  "
      ]
     },
     "execution_count": 19,
     "metadata": {},
     "output_type": "execute_result"
    }
   ],
   "source": [
    "train.head()\n"
   ]
  },
  {
   "cell_type": "code",
   "execution_count": 20,
   "metadata": {},
   "outputs": [],
   "source": [
    "test['text_clean'] = test.text.apply(pre_process)\n",
    "test['text_words_clean'] = test.text_clean.apply(tokenize)\n",
    "#converting categorical classes to numerical variables\n",
    "test['label'] = test.sentiment.astype('category').cat.codes"
   ]
  },
  {
   "cell_type": "code",
   "execution_count": 21,
   "metadata": {},
   "outputs": [
    {
     "data": {
      "text/html": [
       "<div>\n",
       "<style scoped>\n",
       "    .dataframe tbody tr th:only-of-type {\n",
       "        vertical-align: middle;\n",
       "    }\n",
       "\n",
       "    .dataframe tbody tr th {\n",
       "        vertical-align: top;\n",
       "    }\n",
       "\n",
       "    .dataframe thead th {\n",
       "        text-align: right;\n",
       "    }\n",
       "</style>\n",
       "<table border=\"1\" class=\"dataframe\">\n",
       "  <thead>\n",
       "    <tr style=\"text-align: right;\">\n",
       "      <th></th>\n",
       "      <th>textID</th>\n",
       "      <th>text</th>\n",
       "      <th>sentiment</th>\n",
       "      <th>text_clean</th>\n",
       "      <th>text_words_clean</th>\n",
       "      <th>label</th>\n",
       "    </tr>\n",
       "  </thead>\n",
       "  <tbody>\n",
       "    <tr>\n",
       "      <th>0</th>\n",
       "      <td>f87dea47db</td>\n",
       "      <td>Last session of the day  http://twitpic.com/67ezh</td>\n",
       "      <td>neutral</td>\n",
       "      <td>last session of the day</td>\n",
       "      <td>[last, session, day]</td>\n",
       "      <td>1</td>\n",
       "    </tr>\n",
       "    <tr>\n",
       "      <th>1</th>\n",
       "      <td>96d74cb729</td>\n",
       "      <td>Shanghai is also really exciting (precisely -...</td>\n",
       "      <td>positive</td>\n",
       "      <td>shanghai is also really exciting precisely  s...</td>\n",
       "      <td>[shanghai, also, really, exciting, precisely, ...</td>\n",
       "      <td>2</td>\n",
       "    </tr>\n",
       "    <tr>\n",
       "      <th>2</th>\n",
       "      <td>eee518ae67</td>\n",
       "      <td>Recession hit Veronique Branquinho, she has to...</td>\n",
       "      <td>negative</td>\n",
       "      <td>recession hit veronique branquinho she has to ...</td>\n",
       "      <td>[recession, hit, veronique, branquinho, quit, ...</td>\n",
       "      <td>0</td>\n",
       "    </tr>\n",
       "    <tr>\n",
       "      <th>3</th>\n",
       "      <td>01082688c6</td>\n",
       "      <td>happy bday!</td>\n",
       "      <td>positive</td>\n",
       "      <td>happy bday</td>\n",
       "      <td>[happy, bday]</td>\n",
       "      <td>2</td>\n",
       "    </tr>\n",
       "    <tr>\n",
       "      <th>4</th>\n",
       "      <td>33987a8ee5</td>\n",
       "      <td>http://twitpic.com/4w75p - I like it!!</td>\n",
       "      <td>positive</td>\n",
       "      <td>i like it</td>\n",
       "      <td>[like]</td>\n",
       "      <td>2</td>\n",
       "    </tr>\n",
       "  </tbody>\n",
       "</table>\n",
       "</div>"
      ],
      "text/plain": [
       "       textID                                               text sentiment  \\\n",
       "0  f87dea47db  Last session of the day  http://twitpic.com/67ezh   neutral   \n",
       "1  96d74cb729   Shanghai is also really exciting (precisely -...  positive   \n",
       "2  eee518ae67  Recession hit Veronique Branquinho, she has to...  negative   \n",
       "3  01082688c6                                        happy bday!  positive   \n",
       "4  33987a8ee5             http://twitpic.com/4w75p - I like it!!  positive   \n",
       "\n",
       "                                          text_clean  \\\n",
       "0                          last session of the day     \n",
       "1   shanghai is also really exciting precisely  s...   \n",
       "2  recession hit veronique branquinho she has to ...   \n",
       "3                                         happy bday   \n",
       "4                                          i like it   \n",
       "\n",
       "                                    text_words_clean  label  \n",
       "0                               [last, session, day]      1  \n",
       "1  [shanghai, also, really, exciting, precisely, ...      2  \n",
       "2  [recession, hit, veronique, branquinho, quit, ...      0  \n",
       "3                                      [happy, bday]      2  \n",
       "4                                             [like]      2  "
      ]
     },
     "execution_count": 21,
     "metadata": {},
     "output_type": "execute_result"
    }
   ],
   "source": [
    "test.head()"
   ]
  },
  {
   "cell_type": "code",
   "execution_count": 22,
   "metadata": {},
   "outputs": [
    {
     "data": {
      "text/plain": [
       "neutral     63\n",
       "negative     1\n",
       "positive     1\n",
       "Name: sentiment, dtype: int64"
      ]
     },
     "execution_count": 22,
     "metadata": {},
     "output_type": "execute_result"
    }
   ],
   "source": [
    "emp_ind_train = train.text_words_clean[train.text_words_clean.apply(len) == 0].index\n",
    "train.sentiment[emp_ind_train].value_counts()"
   ]
  },
  {
   "cell_type": "code",
   "execution_count": 23,
   "metadata": {},
   "outputs": [
    {
     "data": {
      "text/plain": [
       "8                                  Both of you\n",
       "328                                     There!\n",
       "641                                         no\n",
       "1270                       Were have you been?\n",
       "1385                what have you been up to ?\n",
       "                         ...                  \n",
       "26063                              So over it!\n",
       "26482       and again http://twitpic.com/4wp8l\n",
       "26513                         ... same to you!\n",
       "26584    is over it.  http://plurk.com/p/rp5np\n",
       "26939                                    I did\n",
       "Name: text, Length: 65, dtype: object"
      ]
     },
     "execution_count": 23,
     "metadata": {},
     "output_type": "execute_result"
    }
   ],
   "source": [
    "train.text[emp_ind_train]"
   ]
  },
  {
   "cell_type": "code",
   "execution_count": 24,
   "metadata": {},
   "outputs": [
    {
     "data": {
      "text/plain": [
       "neutral    11\n",
       "Name: sentiment, dtype: int64"
      ]
     },
     "execution_count": 24,
     "metadata": {},
     "output_type": "execute_result"
    }
   ],
   "source": [
    "emp_ind_test = test.text_words_clean[test.text_words_clean.apply(len) == 0].index\n",
    "test.sentiment[emp_ind_test].value_counts()"
   ]
  },
  {
   "cell_type": "code",
   "execution_count": 25,
   "metadata": {},
   "outputs": [
    {
     "data": {
      "text/plain": [
       "196      ???    ?????? - http://bit.ly/nAcK2\n",
       "363                                  me too.\n",
       "912                                  me too!\n",
       "920                              6 am.  you?\n",
       "1228                                 Will do\n",
       "1283                            How are you?\n",
       "1327                                 will do\n",
       "1523                             at `s with \n",
       "2028                                  Me too\n",
       "2175             me too  what are you doing?\n",
       "2965                            and we`re in\n",
       "Name: text, dtype: object"
      ]
     },
     "execution_count": 25,
     "metadata": {},
     "output_type": "execute_result"
    }
   ],
   "source": [
    "test.text[emp_ind_test]"
   ]
  },
  {
   "cell_type": "markdown",
   "metadata": {},
   "source": [
    "#### As seen after pre-processing and toki=enizing the texts in both train and test Both are left with tweets without any word\n",
    "But considering the labels of these tweets in both train and test it is seen almost all of them belong to Neutral class\n",
    "so I replaced the empty tweets with \"neutral\" \n"
   ]
  },
  {
   "cell_type": "code",
   "execution_count": 26,
   "metadata": {},
   "outputs": [],
   "source": [
    "def tokenize_mod(x):\n",
    "    tokenizer = nltk.tokenize.WhitespaceTokenizer()\n",
    "    stop_words = set(stopwords.words('english'))\n",
    "    x = tokenizer.tokenize(x)\n",
    "    x_stop_removed = [w for w in x if not w in stop_words]\n",
    "    if len(x_stop_removed) == 0:\n",
    "        x_stop_removed = ['neutral']\n",
    "    return x_stop_removed"
   ]
  },
  {
   "cell_type": "code",
   "execution_count": 27,
   "metadata": {},
   "outputs": [],
   "source": [
    "train['text_clean_mod'] = train.text.apply(pre_process)\n",
    "train['text_words_clean_mod'] = train.text_clean.apply(tokenize_mod)\n",
    "\n",
    "test['text_clean_mod'] = test.text.apply(pre_process)\n",
    "test['text_words_clean_mod'] = test.text_clean.apply(tokenize_mod)\n",
    "\n"
   ]
  },
  {
   "cell_type": "markdown",
   "metadata": {},
   "source": [
    "#### Counter dict used to count the words for all classes:\n",
    "The arbitrary number of common words (e.g. 1000) chosen for each class seperately.\n"
   ]
  },
  {
   "cell_type": "code",
   "execution_count": 28,
   "metadata": {},
   "outputs": [],
   "source": [
    "vocab_text_pos = Counter()\n",
    "vocab_text_neg = Counter()\n",
    "vocab_text_neu = Counter()\n",
    "\n",
    "for i in train[train.sentiment == 'positive'].loc[:,['text_words_clean_mod']].values.reshape(-1):\n",
    "    vocab_text_pos.update(i)\n",
    "# train[train.sentiment == 'positive'].loc[:,['text_words_clean']].values.reshape(-1)\n",
    "top_pos_words = vocab_text_pos.most_common(10000)\n",
    "\n",
    "for i in train[train.sentiment == 'negative'].loc[:,['text_words_clean_mod']].values.reshape(-1):\n",
    "    vocab_text_neg.update(i)\n",
    "# train[train.sentiment == 'positive'].loc[:,['text_words_clean']].values.reshape(-1)\n",
    "top_neg_words = vocab_text_neg.most_common(10000)\n",
    "\n",
    "for i in train[train.sentiment == 'neutral'].loc[:,['text_words_clean_mod']].values.reshape(-1):\n",
    "    vocab_text_neu.update(i)\n",
    "# train[train.sentiment == 'positive'].loc[:,['text_words_clean']].values.reshape(-1)\n",
    "top_neu_words = vocab_text_neu.most_common(10000)\n",
    "# print(\"+: {}\\n-: {}\\n@: {}\".format(top_pos_words,top_neg_words,top_neu_words) )"
   ]
  },
  {
   "cell_type": "markdown",
   "metadata": {},
   "source": [
    "### Following cell show the slected top 1000 words for each class:"
   ]
  },
  {
   "cell_type": "code",
   "execution_count": 29,
   "metadata": {},
   "outputs": [
    {
     "data": {
      "text/html": [
       "<style  type=\"text/css\" >\n",
       "#T_1e4a21a2_f778_11ea_b894_48a472bdef33row0_col1{\n",
       "            background-color:  #00441b;\n",
       "            color:  #f1f1f1;\n",
       "        }#T_1e4a21a2_f778_11ea_b894_48a472bdef33row0_col3{\n",
       "            background-color:  #67000d;\n",
       "            color:  #f1f1f1;\n",
       "        }#T_1e4a21a2_f778_11ea_b894_48a472bdef33row0_col5{\n",
       "            background-color:  #08306b;\n",
       "            color:  #f1f1f1;\n",
       "        }#T_1e4a21a2_f778_11ea_b894_48a472bdef33row1_col1{\n",
       "            background-color:  #3fa95c;\n",
       "            color:  #000000;\n",
       "        }#T_1e4a21a2_f778_11ea_b894_48a472bdef33row1_col3{\n",
       "            background-color:  #fee7dc;\n",
       "            color:  #000000;\n",
       "        }#T_1e4a21a2_f778_11ea_b894_48a472bdef33row1_col5{\n",
       "            background-color:  #caddf0;\n",
       "            color:  #000000;\n",
       "        }#T_1e4a21a2_f778_11ea_b894_48a472bdef33row2_col1{\n",
       "            background-color:  #bee5b8;\n",
       "            color:  #000000;\n",
       "        }#T_1e4a21a2_f778_11ea_b894_48a472bdef33row2_col3{\n",
       "            background-color:  #fff2ec;\n",
       "            color:  #000000;\n",
       "        }#T_1e4a21a2_f778_11ea_b894_48a472bdef33row2_col5{\n",
       "            background-color:  #d9e8f5;\n",
       "            color:  #000000;\n",
       "        }#T_1e4a21a2_f778_11ea_b894_48a472bdef33row3_col1{\n",
       "            background-color:  #d3eecd;\n",
       "            color:  #000000;\n",
       "        }#T_1e4a21a2_f778_11ea_b894_48a472bdef33row3_col3{\n",
       "            background-color:  #fff4ef;\n",
       "            color:  #000000;\n",
       "        }#T_1e4a21a2_f778_11ea_b894_48a472bdef33row3_col5{\n",
       "            background-color:  #f2f8fd;\n",
       "            color:  #000000;\n",
       "        }#T_1e4a21a2_f778_11ea_b894_48a472bdef33row4_col1{\n",
       "            background-color:  #f7fcf5;\n",
       "            color:  #000000;\n",
       "        }#T_1e4a21a2_f778_11ea_b894_48a472bdef33row4_col3{\n",
       "            background-color:  #fff5f0;\n",
       "            color:  #000000;\n",
       "        }#T_1e4a21a2_f778_11ea_b894_48a472bdef33row4_col5{\n",
       "            background-color:  #f7fbff;\n",
       "            color:  #000000;\n",
       "        }</style><table id=\"T_1e4a21a2_f778_11ea_b894_48a472bdef33\" ><thead>    <tr>        <th class=\"blank level0\" ></th>        <th class=\"col_heading level0 col0\" >pos_words</th>        <th class=\"col_heading level0 col1\" >count+</th>        <th class=\"col_heading level0 col2\" >neg_words</th>        <th class=\"col_heading level0 col3\" >count-</th>        <th class=\"col_heading level0 col4\" >neu_words</th>        <th class=\"col_heading level0 col5\" >count@</th>    </tr></thead><tbody>\n",
       "                <tr>\n",
       "                        <th id=\"T_1e4a21a2_f778_11ea_b894_48a472bdef33level0_row0\" class=\"row_heading level0 row0\" >0</th>\n",
       "                        <td id=\"T_1e4a21a2_f778_11ea_b894_48a472bdef33row0_col0\" class=\"data row0 col0\" >day</td>\n",
       "                        <td id=\"T_1e4a21a2_f778_11ea_b894_48a472bdef33row0_col1\" class=\"data row0 col1\" >1225</td>\n",
       "                        <td id=\"T_1e4a21a2_f778_11ea_b894_48a472bdef33row0_col2\" class=\"data row0 col2\" >im</td>\n",
       "                        <td id=\"T_1e4a21a2_f778_11ea_b894_48a472bdef33row0_col3\" class=\"data row0 col3\" >1226</td>\n",
       "                        <td id=\"T_1e4a21a2_f778_11ea_b894_48a472bdef33row0_col4\" class=\"data row0 col4\" >im</td>\n",
       "                        <td id=\"T_1e4a21a2_f778_11ea_b894_48a472bdef33row0_col5\" class=\"data row0 col5\" >1057</td>\n",
       "            </tr>\n",
       "            <tr>\n",
       "                        <th id=\"T_1e4a21a2_f778_11ea_b894_48a472bdef33level0_row1\" class=\"row_heading level0 row1\" >1</th>\n",
       "                        <td id=\"T_1e4a21a2_f778_11ea_b894_48a472bdef33row1_col0\" class=\"data row1 col0\" >good</td>\n",
       "                        <td id=\"T_1e4a21a2_f778_11ea_b894_48a472bdef33row1_col1\" class=\"data row1 col1\" >1046</td>\n",
       "                        <td id=\"T_1e4a21a2_f778_11ea_b894_48a472bdef33row1_col2\" class=\"data row1 col2\" >****</td>\n",
       "                        <td id=\"T_1e4a21a2_f778_11ea_b894_48a472bdef33row1_col3\" class=\"data row1 col3\" >529</td>\n",
       "                        <td id=\"T_1e4a21a2_f778_11ea_b894_48a472bdef33row1_col4\" class=\"data row1 col4\" >get</td>\n",
       "                        <td id=\"T_1e4a21a2_f778_11ea_b894_48a472bdef33row1_col5\" class=\"data row1 col5\" >623</td>\n",
       "            </tr>\n",
       "            <tr>\n",
       "                        <th id=\"T_1e4a21a2_f778_11ea_b894_48a472bdef33level0_row2\" class=\"row_heading level0 row2\" >2</th>\n",
       "                        <td id=\"T_1e4a21a2_f778_11ea_b894_48a472bdef33row2_col0\" class=\"data row2 col0\" >love</td>\n",
       "                        <td id=\"T_1e4a21a2_f778_11ea_b894_48a472bdef33row2_col1\" class=\"data row2 col1\" >876</td>\n",
       "                        <td id=\"T_1e4a21a2_f778_11ea_b894_48a472bdef33row2_col2\" class=\"data row2 col2\" >like</td>\n",
       "                        <td id=\"T_1e4a21a2_f778_11ea_b894_48a472bdef33row2_col3\" class=\"data row2 col3\" >476</td>\n",
       "                        <td id=\"T_1e4a21a2_f778_11ea_b894_48a472bdef33row2_col4\" class=\"data row2 col4\" >go</td>\n",
       "                        <td id=\"T_1e4a21a2_f778_11ea_b894_48a472bdef33row2_col5\" class=\"data row2 col5\" >576</td>\n",
       "            </tr>\n",
       "            <tr>\n",
       "                        <th id=\"T_1e4a21a2_f778_11ea_b894_48a472bdef33level0_row3\" class=\"row_heading level0 row3\" >3</th>\n",
       "                        <td id=\"T_1e4a21a2_f778_11ea_b894_48a472bdef33row3_col0\" class=\"data row3 col0\" >happy</td>\n",
       "                        <td id=\"T_1e4a21a2_f778_11ea_b894_48a472bdef33row3_col1\" class=\"data row3 col1\" >840</td>\n",
       "                        <td id=\"T_1e4a21a2_f778_11ea_b894_48a472bdef33row3_col2\" class=\"data row3 col2\" >dont</td>\n",
       "                        <td id=\"T_1e4a21a2_f778_11ea_b894_48a472bdef33row3_col3\" class=\"data row3 col3\" >469</td>\n",
       "                        <td id=\"T_1e4a21a2_f778_11ea_b894_48a472bdef33row3_col4\" class=\"data row3 col4\" >day</td>\n",
       "                        <td id=\"T_1e4a21a2_f778_11ea_b894_48a472bdef33row3_col5\" class=\"data row3 col5\" >505</td>\n",
       "            </tr>\n",
       "            <tr>\n",
       "                        <th id=\"T_1e4a21a2_f778_11ea_b894_48a472bdef33level0_row4\" class=\"row_heading level0 row4\" >4</th>\n",
       "                        <td id=\"T_1e4a21a2_f778_11ea_b894_48a472bdef33row4_col0\" class=\"data row4 col0\" >im</td>\n",
       "                        <td id=\"T_1e4a21a2_f778_11ea_b894_48a472bdef33row4_col1\" class=\"data row4 col1\" >742</td>\n",
       "                        <td id=\"T_1e4a21a2_f778_11ea_b894_48a472bdef33row4_col2\" class=\"data row4 col2\" >cant</td>\n",
       "                        <td id=\"T_1e4a21a2_f778_11ea_b894_48a472bdef33row4_col3\" class=\"data row4 col3\" >464</td>\n",
       "                        <td id=\"T_1e4a21a2_f778_11ea_b894_48a472bdef33row4_col4\" class=\"data row4 col4\" >dont</td>\n",
       "                        <td id=\"T_1e4a21a2_f778_11ea_b894_48a472bdef33row4_col5\" class=\"data row4 col5\" >491</td>\n",
       "            </tr>\n",
       "    </tbody></table>"
      ],
      "text/plain": [
       "<pandas.io.formats.style.Styler at 0x18d68bbef60>"
      ]
     },
     "execution_count": 29,
     "metadata": {},
     "output_type": "execute_result"
    }
   ],
   "source": [
    "top_pos = pd.DataFrame(top_pos_words)\n",
    "top_pos.columns = ['pos_words','count+']\n",
    "\n",
    "top_neg = pd.DataFrame(top_neg_words)\n",
    "top_neg.columns = ['neg_words','count-']\n",
    "\n",
    "top_neu = pd.DataFrame(top_neu_words)\n",
    "top_neu.columns = ['neu_words','count@']\n",
    "\n",
    "allwords = pd.concat((top_pos,top_neg,top_neu),axis = 1)\n",
    "\n",
    "allwords.head(5).style.background_gradient(cmap = 'Greens', subset = [\"count+\"])\\\n",
    "                        .background_gradient(cmap = 'Reds', subset = [\"count-\"])\\\n",
    "                        .background_gradient(cmap = 'Blues', subset = [\"count@\"])"
   ]
  },
  {
   "cell_type": "code",
   "execution_count": 30,
   "metadata": {},
   "outputs": [],
   "source": [
    "words= allwords.loc[0:3155, ['pos_words','neg_words', 'neu_words' ]]\n",
    "words = list(set(words.values.reshape(-1)))\n",
    "vocabulary = {}\n",
    "for index,word in enumerate(words):\n",
    "    vocabulary[index] = word\n"
   ]
  },
  {
   "cell_type": "markdown",
   "metadata": {},
   "source": [
    "#### Applying classic ML algorithms for classifying the docs into +/-/@ classes:\n",
    "- Naive Bayes Classifier\n",
    "- Linear Classifier\n",
    "- Support Vector Machine\n",
    "- Bagging Models\n",
    "- Boosting Models"
   ]
  },
  {
   "cell_type": "code",
   "execution_count": 31,
   "metadata": {},
   "outputs": [],
   "source": [
    "# train_x, valid_x, train_y, valid_y = model_selection.train_test_split(train['text'], train['label'], shuffle = True)\n",
    "train_x, train_y,test_x, test_y = train['text'], train['label'], test['text'], test['label']\n"
   ]
  },
  {
   "cell_type": "markdown",
   "metadata": {},
   "source": [
    "### Feture engineering :\n",
    "- I.Counter vectors\n",
    "- II. TF-IDF Vectors\n",
    "- III. Word2Vec\n"
   ]
  },
  {
   "cell_type": "markdown",
   "metadata": {},
   "source": [
    "#### I. Count Vectors as features:"
   ]
  },
  {
   "cell_type": "code",
   "execution_count": 32,
   "metadata": {},
   "outputs": [
    {
     "name": "stdout",
     "output_type": "stream",
     "text": [
      "<class 'dict'>\n",
      "<class 'dict_items'>\n",
      "<class 'scipy.sparse.csr.csr_matrix'>\n",
      "<class 'numpy.ndarray'>\n"
     ]
    }
   ],
   "source": [
    "# Counter vectorizer object initiated where custom pre_processor and tokenizer used \n",
    "# unigram_range  = (1,3) means unigram and  bigram and  trigram\n",
    "# unigram_range  = (1,2) means unigram and  bigram which gives slightly better results for my case\n",
    "count_vect = CountVectorizer(preprocessor=pre_process, tokenizer=tokenize_mod, max_features= 5000 ,ngram_range=(1, 2))\n",
    "# It is fitted on all documents.\n",
    "count_vect.fit(train['text'])\n",
    "\n",
    "print(type(count_vect.vocabulary_))\n",
    "print(type(count_vect.vocabulary_.items()))\n",
    "\n",
    "\n",
    "bag_of_words = count_vect.transform(train['text'])\n",
    "print(type(bag_of_words))\n",
    "print(type(bag_of_words.toarray()))\n",
    "\n",
    "# # Bag of words: is a mtrix where: each row is a doc and each column represents a word in vocabulary\n",
    "# # Vocabulary: all words found in train data set\n",
    "# # Bag of words[i][j] means occurence of word j in tweet i\n",
    "\n",
    "sum_words = bag_of_words.sum(axis=0)\n",
    "## sum_words is a vector gives the number of occurence of any word in all docs so the shape is (1, num of words in vocab)\n",
    "\n",
    "words_freq = [(word, sum_words[0, idx]) for word, idx in count_vect.vocabulary_.items()]\n",
    "###  words_freq : is a list of tuples where first item (x[0])in each tuple is the word and second item (x[1]) is the number of occurence\n",
    "\n",
    "words_freq =sorted(words_freq, key = lambda x: x[1], reverse=True)\n",
    "top_words = words_freq[0:100]\n",
    "\n",
    "# for word,freq in top_words:\n",
    "#     print(word,freq)\n",
    "    "
   ]
  },
  {
   "cell_type": "code",
   "execution_count": 35,
   "metadata": {},
   "outputs": [
    {
     "name": "stdout",
     "output_type": "stream",
     "text": [
      "|    |   GaussianNB |   Mul-NB |   Bern-NB |   LogisticReg |     SVC |   RanForest |   XGBClass |\n",
      "|---:|-------------:|---------:|----------:|--------------:|--------:|------------:|-----------:|\n",
      "|  0 |      44.5671 |  66.2422 |   66.5252 |        68.704 | 69.8925 |     69.3831 |    63.0164 |\n"
     ]
    }
   ],
   "source": [
    "# Accordingly train, and validation datasets transformed\n",
    "train_x_count =  count_vect.transform(train_x)\n",
    "test_x_count =  count_vect.transform(test_x)\n",
    "\n",
    "models = [naive_bayes.MultinomialNB(),naive_bayes.BernoulliNB(),linear_model.LogisticRegression(),svm.SVC(),ensemble.RandomForestClassifier()]\n",
    "model_ = [naive_bayes.GaussianNB()]\n",
    "models_gradient = [xgboost.XGBClassifier()]\n",
    "\n",
    "accuracy = {}\n",
    "for model in model_+models+models_gradient:\n",
    "    if model in models:\n",
    "        model.fit(train_x_count, train_y)\n",
    "        accuracy[model] = (metrics.accuracy_score(model.predict(test_x_count), test_y)*100)\n",
    "    elif model in model_:\n",
    "        model.fit(train_x_count.toarray(), train_y)\n",
    "        accuracy[model] = (metrics.accuracy_score(model.predict(test_x_count.toarray()), test_y)*100)\n",
    "    else:\n",
    "        model.fit(train_x_count.tocsc(), train_y)\n",
    "        accuracy[model] = (metrics.accuracy_score(model.predict(test_x_count.tocsc()), test_y)*100)       \n",
    "\n",
    "        \n",
    "accuracy_count = pd.DataFrame(accuracy.values())\n",
    "accuracy_count = accuracy_count.T\n",
    "accuracy_count.columns = ['GaussianNB','Mul-NB', 'Bern-NB','LogisticReg','SVC','RanForest','XGBClass']\n",
    "print(accuracy_count.to_markdown())"
   ]
  },
  {
   "cell_type": "markdown",
   "metadata": {},
   "source": [
    "#### II. TF-IDF Vectors as features"
   ]
  },
  {
   "cell_type": "code",
   "execution_count": 36,
   "metadata": {},
   "outputs": [
    {
     "name": "stdout",
     "output_type": "stream",
     "text": [
      "|    |   GaussianNB |   Mul-NB |   Bern-NB |   LogisticReg |     SVC |   RanForest |   XGBClass |\n",
      "|---:|-------------:|---------:|----------:|--------------:|--------:|------------:|-----------:|\n",
      "|  0 |      45.7838 |  64.7708 |   66.5252 |       69.3831 | 70.3735 |     70.7131 |    63.2145 |\n"
     ]
    }
   ],
   "source": [
    "tfidf_vect = TfidfVectorizer(preprocessor=pre_process,tokenizer=tokenize_mod,max_features=5000,ngram_range=(1, 2) )\n",
    "\n",
    "tfidf_vect.fit(train['text'])\n",
    "train_x_tfidf =  tfidf_vect.transform(train_x)\n",
    "test_x_tfidf =  tfidf_vect.transform(test_x)\n",
    "\n",
    "\n",
    "\n",
    "models = [naive_bayes.MultinomialNB(),naive_bayes.BernoulliNB(),linear_model.LogisticRegression(),svm.SVC(),ensemble.RandomForestClassifier()]\n",
    "model_ = [naive_bayes.GaussianNB()]\n",
    "models_gradient = [xgboost.XGBClassifier()]\n",
    "\n",
    "accuracy = {}\n",
    "for model in model_+models+models_gradient:\n",
    "    if model in models:\n",
    "        model.fit(train_x_tfidf, train_y)\n",
    "        accuracy[model] = (metrics.accuracy_score(model.predict(test_x_tfidf), test_y)*100)\n",
    "    elif model in model_:\n",
    "        model.fit(train_x_tfidf.toarray(), train_y)\n",
    "        accuracy[model] = (metrics.accuracy_score(model.predict(test_x_tfidf.toarray()), test_y)*100)\n",
    "    else:\n",
    "        model.fit(train_x_tfidf.tocsc(), train_y)\n",
    "        accuracy[model] = (metrics.accuracy_score(model.predict(test_x_tfidf.tocsc()), test_y)*100)       \n",
    "\n",
    "        \n",
    "accuracy_tfidf = pd.DataFrame(accuracy.values())\n",
    "accuracy_tfidf = accuracy_tfidf.T\n",
    "accuracy_tfidf.columns = ['GaussianNB','Mul-NB', 'Bern-NB','LogisticReg','SVC','RanForest','XGBClass']\n",
    "print(accuracy_tfidf.to_markdown())\n"
   ]
  },
  {
   "cell_type": "markdown",
   "metadata": {},
   "source": [
    "### Word2vec:"
   ]
  },
  {
   "cell_type": "code",
   "execution_count": 33,
   "metadata": {},
   "outputs": [],
   "source": [
    "### Important: The sentences given to w2v modeling ------> should be list of lists of tokens\n",
    "# window = 10: means 10 similar words for given word. size = 350 the vector size for each word. This vector size is the number of fetures for each word\n",
    "w2v = gensim.models.Word2Vec(list(train.text_words_clean_mod), size=50, window=10, min_count=2, iter=100)"
   ]
  },
  {
   "cell_type": "code",
   "execution_count": 34,
   "metadata": {},
   "outputs": [
    {
     "data": {
      "text/plain": [
       "[('fair', 0.59993577003479),\n",
       " ('badly', 0.5052626132965088),\n",
       " ('guilty', 0.45434677600860596),\n",
       " ('dying', 0.43488383293151855),\n",
       " ('good', 0.408413290977478),\n",
       " ('disappointed', 0.4083400368690491),\n",
       " ('ponytail', 0.3991432189941406),\n",
       " ('shelter', 0.39661705493927),\n",
       " ('horrible', 0.39267608523368835),\n",
       " ('neutral', 0.39050760865211487)]"
      ]
     },
     "execution_count": 34,
     "metadata": {},
     "output_type": "execute_result"
    }
   ],
   "source": [
    "w2v.most_similar('bad')"
   ]
  },
  {
   "cell_type": "code",
   "execution_count": 36,
   "metadata": {},
   "outputs": [],
   "source": [
    "stopwords = set(STOPWORDS)\n",
    "\n",
    "def show_wordcloud(data, title = None,ax=None):\n",
    "    wordcloud = WordCloud(\n",
    "        background_color='white',\n",
    "        max_words=100,\n",
    "        max_font_size=30, \n",
    "        scale=3,\n",
    "        random_state=1 \n",
    "        )\n",
    "    \n",
    "    wordcloud=wordcloud.generate(str(data))\n",
    "    ax.imshow(wordcloud,interpolation='nearest')\n",
    "    ax.axis('off')\n",
    "    #plt.show()"
   ]
  },
  {
   "cell_type": "code",
   "execution_count": 39,
   "metadata": {},
   "outputs": [],
   "source": [
    "sent=train.sentiment.unique()\n",
    "colors = [\"blue\",\"red\", \"green\"]"
   ]
  },
  {
   "cell_type": "code",
   "execution_count": 40,
   "metadata": {},
   "outputs": [
    {
     "data": {
      "image/png": "[encoded data removed]",
      "text/plain": [
       "<Figure size 1440x864 with 3 Axes>"
      ]
     },
     "metadata": {
      "needs_background": "light"
     },
     "output_type": "display_data"
    }
   ],
   "source": [
    "fig,ax=plt.subplots(1,3,figsize=(20,12))\n",
    "for i in range(3):\n",
    "    new=train[train['sentiment']==sent[i]]['text_words_clean_mod']\n",
    "    show_wordcloud(new,ax=ax[i])\n",
    "    ax[i].set_title(sent[i],color=colors[i])"
   ]
  },
  {
   "cell_type": "code",
   "execution_count": 41,
   "metadata": {},
   "outputs": [
    {
     "data": {
      "image/png": "[encoded data removed]",
      "text/plain": [
       "<Figure size 1440x864 with 3 Axes>"
      ]
     },
     "metadata": {
      "needs_background": "light"
     },
     "output_type": "display_data"
    }
   ],
   "source": [
    "fig,ax=plt.subplots(1,3,figsize=(20,12))\n",
    "for i in range(3):\n",
    "    new=test[test['sentiment']==sent[i]]['text_words_clean_mod']\n",
    "    show_wordcloud(new,ax=ax[i])\n",
    "    ax[i].set_title(sent[i],color=colors[i])"
   ]
  },
  {
   "cell_type": "code",
   "execution_count": 42,
   "metadata": {},
   "outputs": [],
   "source": [
    "def w2v_vector(x):\n",
    "    \"\"\"eliminates the words not available in w2v model's vocabulary and gives average word vector for any tweet given. \"\"\"\n",
    "    x = [word for word in x if word in w2v.wv.vocab]\n",
    "    if len(x) == 0:\n",
    "        x = [word for word in x]\n",
    "        if len(x) == 0:\n",
    "            x = ['neutral']\n",
    "    return np.mean(w2v[x], axis=0)\n"
   ]
  },
  {
   "cell_type": "code",
   "execution_count": 43,
   "metadata": {},
   "outputs": [],
   "source": [
    "train[\"word2vcs\"] = train.text_words_clean_mod.apply(w2v_vector)\n",
    "test[\"word2vcs\"] = test.text_words_clean_mod.apply(w2v_vector)"
   ]
  },
  {
   "cell_type": "code",
   "execution_count": 51,
   "metadata": {},
   "outputs": [
    {
     "name": "stdout",
     "output_type": "stream",
     "text": [
      "|    |   GaussianNB |   Bern-NB |   LogisticReg |     SVC |   RanForest |   XGBClass |\n",
      "|---:|-------------:|----------:|--------------:|--------:|------------:|-----------:|\n",
      "|  0 |      54.2162 |   54.4143 |       59.7057 | 64.4029 |     60.4697 |    60.9791 |\n"
     ]
    }
   ],
   "source": [
    "train_X_w2v = list(train[\"word2vcs\"])\n",
    "test_X_w2v = list(test[\"word2vcs\"])\n",
    "models = [naive_bayes.GaussianNB(),naive_bayes.BernoulliNB(),linear_model.LogisticRegression(),svm.SVC(),ensemble.RandomForestClassifier()]\n",
    "model_ = [xgboost.XGBClassifier()]\n",
    "accuracy = {}\n",
    "for model in models+model_:\n",
    "    if model in models:\n",
    "        model.fit(train_X_w2v, train_y)\n",
    "        accuracy[model] = (metrics.accuracy_score(model.predict(test_X_w2v), test_y)*100)\n",
    "    else:\n",
    "        model.fit(np.array(train_X_w2v), train_y)\n",
    "        accuracy[model] = (metrics.accuracy_score(model.predict(test_X_w2v), test_y)*100)        \n",
    "        \n",
    "        \n",
    "\n",
    "accuracy_w2v = pd.DataFrame(accuracy.values())\n",
    "accuracy_w2v = accuracy_w2v.T\n",
    "accuracy_w2v.columns = ['GaussianNB', 'Bern-NB','LogisticReg','SVC','RanForest','XGBClass']\n",
    "print(accuracy_w2v.to_markdown())    \n"
   ]
  },
  {
   "cell_type": "markdown",
   "metadata": {},
   "source": [
    "### Neural Network (MLP):\n",
    "- feature engineering with couter-vectorizer:"
   ]
  },
  {
   "cell_type": "code",
   "execution_count": 62,
   "metadata": {},
   "outputs": [
    {
     "name": "stdout",
     "output_type": "stream",
     "text": [
      "Train: 0.837, Test: 0.713\n"
     ]
    },
    {
     "data": {
      "image/png": "[encoded data removed]",
      "text/plain": [
       "<Figure size 432x288 with 1 Axes>"
      ]
     },
     "metadata": {
      "needs_background": "light"
     },
     "output_type": "display_data"
    }
   ],
   "source": [
    "input_dim = train_x_count.toarray().shape[1]\n",
    "num_classes = 3\n",
    "train_y = train.label\n",
    "train_y= np_utils.to_categorical(train_y)\n",
    "\n",
    "test_y = test.label\n",
    "test_y= np_utils.to_categorical(test_y)\n",
    "\n",
    "### Create Model\n",
    "model = Sequential()\n",
    "\n",
    "# regularizers.l1_l2(l1=1e-5, l2=1e-4),\n",
    "model.add(Dense(200, activation='relu',input_dim= input_dim, activity_regularizer=l1_l2(l1=1e-5, l2=1e-4)) )\n",
    "model.add(Dropout(0.4))\n",
    "model.add(Dense(num_classes , activation='softmax' ) )\n",
    "# optimizer = keras.optimizers.Adam(lr=0.0001)\n",
    "optimizer = SGD(lr=0.002, momentum=0.95)\n",
    "model.compile(loss='categorical_crossentropy', optimizer=optimizer, metrics=['accuracy'])\n",
    "history = model.fit(train_x_count,train_y, validation_data=(test_x_count, test_y), epochs=15, verbose=0)\n",
    "# evaluate the model\n",
    "_, train_acc = model.evaluate(train_x_count,train_y, verbose=0)\n",
    "_, test_acc = model.evaluate(test_x_count, test_y, verbose=0)\n",
    "print('Train: %.3f, Test: %.3f' % (train_acc, test_acc))\n",
    "# plot training history\n",
    "plt.plot(history.history['accuracy'], label='train')\n",
    "plt.plot(history.history['val_accuracy'], label='test')\n",
    "plt.legend()\n",
    "plt.show()"
   ]
  },
  {
   "cell_type": "code",
   "execution_count": 60,
   "metadata": {},
   "outputs": [
    {
     "name": "stdout",
     "output_type": "stream",
     "text": [
      "Model: \"sequential_23\"\n",
      "_________________________________________________________________\n",
      "Layer (type)                 Output Shape              Param #   \n",
      "=================================================================\n",
      "dense_43 (Dense)             (None, 200)               1000200   \n",
      "_________________________________________________________________\n",
      "dropout_21 (Dropout)         (None, 200)               0         \n",
      "_________________________________________________________________\n",
      "dense_44 (Dense)             (None, 3)                 603       \n",
      "=================================================================\n",
      "Total params: 1,000,803\n",
      "Trainable params: 1,000,803\n",
      "Non-trainable params: 0\n",
      "_________________________________________________________________\n",
      "Epoch 1/15\n",
      "27480/27480 [==============================] - 8s 291us/step - loss: 1.0156 - accuracy: 0.4951\n",
      "Epoch 2/15\n",
      "27480/27480 [==============================] - 7s 265us/step - loss: 0.8680 - accuracy: 0.6227\n",
      "Epoch 3/15\n",
      "27480/27480 [==============================] - 7s 270us/step - loss: 0.7913 - accuracy: 0.6689\n",
      "Epoch 4/15\n",
      "27480/27480 [==============================] - 8s 274us/step - loss: 0.7445 - accuracy: 0.6931\n",
      "Epoch 5/15\n",
      "27480/27480 [==============================] - 8s 275us/step - loss: 0.7125 - accuracy: 0.7085\n",
      "Epoch 6/15\n",
      "27480/27480 [==============================] - 8s 276us/step - loss: 0.6831 - accuracy: 0.7246\n",
      "Epoch 7/15\n",
      "27480/27480 [==============================] - 8s 276us/step - loss: 0.6591 - accuracy: 0.7349\n",
      "Epoch 8/15\n",
      "27480/27480 [==============================] - 8s 276us/step - loss: 0.6358 - accuracy: 0.7476\n",
      "Epoch 9/15\n",
      "27480/27480 [==============================] - 8s 275us/step - loss: 0.6139 - accuracy: 0.7570\n",
      "Epoch 10/15\n",
      "27480/27480 [==============================] - 8s 276us/step - loss: 0.5946 - accuracy: 0.7677\n",
      "Epoch 11/15\n",
      "27480/27480 [==============================] - 8s 275us/step - loss: 0.5772 - accuracy: 0.7767\n",
      "Epoch 12/15\n",
      "27480/27480 [==============================] - 8s 277us/step - loss: 0.5585 - accuracy: 0.7849\n",
      "Epoch 13/15\n",
      "27480/27480 [==============================] - 8s 277us/step - loss: 0.5452 - accuracy: 0.7920\n",
      "Epoch 14/15\n",
      "27480/27480 [==============================] - 8s 275us/step - loss: 0.5276 - accuracy: 0.8000\n",
      "Epoch 15/15\n",
      "27480/27480 [==============================] - 8s 286us/step - loss: 0.5121 - accuracy: 0.8065\n"
     ]
    },
    {
     "data": {
      "text/plain": [
       "70.7696661007357"
      ]
     },
     "execution_count": 60,
     "metadata": {},
     "output_type": "execute_result"
    }
   ],
   "source": [
    "input_dim = train_x_count.toarray().shape[1]\n",
    "num_classes = 3\n",
    "train_y = train.label\n",
    "train_y= np_utils.to_categorical(train_y)\n",
    "# test_y = test.label\n",
    "# test_y= np_utils.to_categorical(test_y)\n",
    "### Create Model\n",
    "model = Sequential()\n",
    "#, activity_regularizer=l1(0.006)\n",
    "model.add(Dense(200, activation='relu',input_dim= input_dim, activity_regularizer=l1_l2(l1=1e-5, l2=1e-4)))\n",
    "model.add(Dropout(0.4))\n",
    "model.add(Dense(num_classes , activation='softmax'))\n",
    "optimizer = SGD(lr=0.002, momentum=0.95)\n",
    "model.compile(loss='categorical_crossentropy', optimizer=optimizer, metrics=['accuracy'])\n",
    "model.summary()\n",
    "model.fit(train_x_count,train_y,epochs=15)\n",
    "(metrics.accuracy_score(model.predict(test_x_count).argmax(axis=-1), test.label)*100)"
   ]
  },
  {
   "cell_type": "markdown",
   "metadata": {},
   "source": [
    "### Neural Network (MLP): \n",
    "- feature engineering with word embedding layer:"
   ]
  },
  {
   "cell_type": "code",
   "execution_count": 45,
   "metadata": {},
   "outputs": [],
   "source": [
    "num_classes = 3\n",
    "### vocabulary is built form most frequent words in train data set. vocab_size = 5000\n",
    "vocab_size = len(vocabulary)\n",
    "\n",
    "#### Each tweet has different number of words so, the longest tweet found to make all tweet's lenghth the same.\n",
    "sent_length = train['text_words_clean'].apply(len).max()\n",
    "\n",
    "### Labes transformed as one hot encoded. as the output layer in MLP has 3  units\n",
    "train_y = train.label\n",
    "train_y= np_utils.to_categorical(train_y)\n",
    "## The actual label on test data set. No need for OHE as we do not use it in training\n",
    "test_y = test.label\n",
    "\n",
    "#### So each tweet in train set is cleaned first by pre_process function \n",
    "tweets_train  = train['text_words_clean'].apply(lambda x: \" \".join(x) )\n",
    "  \n",
    "### The words in each tweet then One hot encoded by vocab size\n",
    "onehot_repr=[one_hot(tweet,vocab_size)for tweet in tweets_train]\n",
    "### The one hot encoded words then transformed into vectors with fixed length and pre padding \n",
    "train_x_wv = pad_sequences(onehot_repr,padding='pre',maxlen=sent_length)\n",
    "\n",
    "\n",
    "\n",
    "# The same process above for the test data set in order to prepare test_x\n",
    "tweets_test  = test['text_words_clean'].apply(lambda x: \" \".join(x))       \n",
    "onehot_repr_test=[one_hot(tweet,vocab_size)for tweet in tweets_test]\n",
    "test_x_wv = pad_sequences(onehot_repr_test,padding='pre',maxlen=sent_length)    \n",
    "\n"
   ]
  },
  {
   "cell_type": "markdown",
   "metadata": {},
   "source": [
    "### As seen in PCA_components figure 15 components almost explains 100% of the variation in feature set  "
   ]
  },
  {
   "cell_type": "code",
   "execution_count": 46,
   "metadata": {},
   "outputs": [
    {
     "name": "stdout",
     "output_type": "stream",
     "text": [
      "pca explained variance ratio for train:  [3.11227611e-01 1.15742893e-01 8.10143503e-02 7.45859009e-02\n",
      " 7.39642869e-02 6.86433808e-02 5.93406586e-02 5.07555517e-02\n",
      " 4.23061439e-02 3.45264180e-02 2.75993741e-02 2.14285861e-02\n",
      " 1.55208589e-02 1.04073030e-02 6.63095791e-03 3.31077564e-03\n",
      " 1.69649917e-03 8.12225403e-04 2.90808941e-04 1.35335460e-04]\n",
      "pca explained variance ratio for test:  [3.11819556e-01 1.17578634e-01 8.28658075e-02 7.62629569e-02\n",
      " 7.36084736e-02 6.67455424e-02 5.92590965e-02 5.12566504e-02\n",
      " 4.25361031e-02 3.36594929e-02 2.85920550e-02 2.08977600e-02\n",
      " 1.42520135e-02 8.62196947e-03 6.63319056e-03 3.18221711e-03\n",
      " 1.24155730e-03 7.86676242e-04 1.14121248e-04 8.57535940e-05]\n",
      "\n",
      "----------------------------PCA-PLOT------------------------------------------------------\n"
     ]
    },
    {
     "data": {
      "image/png": "[encoded data removed]",
      "text/plain": [
       "<Figure size 576x360 with 1 Axes>"
      ]
     },
     "metadata": {
      "needs_background": "light"
     },
     "output_type": "display_data"
    }
   ],
   "source": [
    "pca_train = PCA(n_components=20).fit(train_x_wv)     \n",
    "pca_test =  PCA(n_components=20).fit(test_x_wv)\n",
    "# np.array(onehot_repr_test).shape\n",
    "print(\"pca explained variance ratio for train: \", pca_train.explained_variance_ratio_)\n",
    "print(\"pca explained variance ratio for test: \", pca_test.explained_variance_ratio_)\n",
    "print(\"\\n----------------------------PCA-PLOT------------------------------------------------------\")\n",
    "plt.figure(figsize=(8,5))\n",
    "plt.plot(np.cumsum(pca_train.explained_variance_ratio_),color = 'r', linestyle = '--', marker = 'o', linewidth = 3 , label = 'train' )\n",
    "plt.plot(np.cumsum(pca_test.explained_variance_ratio_),color = 'b', label = 'test')\n",
    "plt.xlabel('number of components')\n",
    "plt.ylabel('cumulative explained variance')\n",
    "plt.tight_layout()\n",
    "plt.title('pca_cumsum')\n",
    "plt.legend()\n",
    "plt.grid()\n",
    "plt.show()"
   ]
  },
  {
   "cell_type": "code",
   "execution_count": 47,
   "metadata": {},
   "outputs": [
    {
     "name": "stdout",
     "output_type": "stream",
     "text": [
      "WARNING:tensorflow:From C:\\Users\\avafa\\Anaconda3\\lib\\site-packages\\tensorflow\\python\\ops\\resource_variable_ops.py:435: colocate_with (from tensorflow.python.framework.ops) is deprecated and will be removed in a future version.\n",
      "Instructions for updating:\n",
      "Colocations handled automatically by placer.\n",
      "WARNING:tensorflow:From C:\\Users\\avafa\\Anaconda3\\lib\\site-packages\\tensorflow\\python\\ops\\math_ops.py:3066: to_int32 (from tensorflow.python.ops.math_ops) is deprecated and will be removed in a future version.\n",
      "Instructions for updating:\n",
      "Use tf.cast instead.\n",
      "Epoch 1/15\n",
      "27480/27480 [==============================] - 2s 86us/step - loss: 1.0891 - accuracy: 0.4024\n",
      "Epoch 2/15\n",
      "27480/27480 [==============================] - 2s 75us/step - loss: 1.0856 - accuracy: 0.4045\n",
      "Epoch 3/15\n",
      "27480/27480 [==============================] - 2s 75us/step - loss: 1.0808 - accuracy: 0.4095\n",
      "Epoch 4/15\n",
      "27480/27480 [==============================] - 2s 76us/step - loss: 1.0613 - accuracy: 0.4518\n",
      "Epoch 5/15\n",
      "27480/27480 [==============================] - 2s 76us/step - loss: 1.0022 - accuracy: 0.5078\n",
      "Epoch 6/15\n",
      "27480/27480 [==============================] - 2s 76us/step - loss: 0.9323 - accuracy: 0.5536\n",
      "Epoch 7/15\n",
      "27480/27480 [==============================] - 2s 77us/step - loss: 0.8756 - accuracy: 0.6060\n",
      "Epoch 8/15\n",
      "27480/27480 [==============================] - 2s 84us/step - loss: 0.8256 - accuracy: 0.6469 0s - loss: 0.8\n",
      "Epoch 9/15\n",
      "27480/27480 [==============================] - 2s 82us/step - loss: 0.7939 - accuracy: 0.6656\n",
      "Epoch 10/15\n",
      "27480/27480 [==============================] - 2s 80us/step - loss: 0.7653 - accuracy: 0.6844\n",
      "Epoch 11/15\n",
      "27480/27480 [==============================] - 2s 89us/step - loss: 0.7433 - accuracy: 0.6940\n",
      "Epoch 12/15\n",
      "27480/27480 [==============================] - 2s 90us/step - loss: 0.7255 - accuracy: 0.7011\n",
      "Epoch 13/15\n",
      "27480/27480 [==============================] - 2s 84us/step - loss: 0.7020 - accuracy: 0.7166\n",
      "Epoch 14/15\n",
      "27480/27480 [==============================] - 3s 94us/step - loss: 0.6809 - accuracy: 0.7282\n",
      "Epoch 15/15\n",
      "27480/27480 [==============================] - 2s 80us/step - loss: 0.6575 - accuracy: 0.7387\n"
     ]
    },
    {
     "data": {
      "text/plain": [
       "66.01584606677984"
      ]
     },
     "execution_count": 47,
     "metadata": {},
     "output_type": "execute_result"
    }
   ],
   "source": [
    "# # create model\n",
    "# with respect to PCA analysis, the dimension for feature set chosen as 14:\n",
    "dimension = 14\n",
    "model = Sequential()\n",
    "model.add(Embedding(vocab_size, dimension , input_length=sent_length))\n",
    "model.add(Flatten())\n",
    "model.add(Dense(200, activation='relu', activity_regularizer=l1_l2(l1=1e-4, l2=1e-4)))\n",
    "model.add(Dropout(0.4))\n",
    "model.add(Dense(num_classes , activation='softmax'))\n",
    "optimizer = SGD(lr=0.002, momentum=0.95)\n",
    "model.compile(loss='categorical_crossentropy', optimizer=optimizer, metrics=['accuracy'])\n",
    "\n",
    "model.fit(train_x_wv,train_y,epochs=15)\n",
    "(metrics.accuracy_score(model.predict(test_x_wv).argmax(axis=-1), test_y)*100)\n",
    "\n"
   ]
  },
  {
   "cell_type": "markdown",
   "metadata": {},
   "source": [
    "### Convelutional neural network (CNN):\n",
    "https://machinelearningmastery.com/predict-sentiment-movie-reviews-using-deep-learning/"
   ]
  },
  {
   "cell_type": "code",
   "execution_count": 86,
   "metadata": {},
   "outputs": [
    {
     "name": "stdout",
     "output_type": "stream",
     "text": [
      "Epoch 1/18\n",
      "27480/27480 [==============================] - 4s 152us/step - loss: 1.0867 - accuracy: 0.4017\n",
      "Epoch 2/18\n",
      "27480/27480 [==============================] - 4s 142us/step - loss: 1.0831 - accuracy: 0.4053\n",
      "Epoch 3/18\n",
      "27480/27480 [==============================] - 4s 146us/step - loss: 1.0774 - accuracy: 0.4141\n",
      "Epoch 4/18\n",
      "27480/27480 [==============================] - 4s 147us/step - loss: 1.0623 - accuracy: 0.4451\n",
      "Epoch 5/18\n",
      "27480/27480 [==============================] - 4s 150us/step - loss: 1.0198 - accuracy: 0.4898\n",
      "Epoch 6/18\n",
      "27480/27480 [==============================] - 4s 150us/step - loss: 0.9736 - accuracy: 0.5239\n",
      "Epoch 7/18\n",
      "27480/27480 [==============================] - 4s 150us/step - loss: 0.9382 - accuracy: 0.5409\n",
      "Epoch 8/18\n",
      "27480/27480 [==============================] - 4s 151us/step - loss: 0.9099 - accuracy: 0.5541\n",
      "Epoch 9/18\n",
      "27480/27480 [==============================] - 4s 151us/step - loss: 0.8804 - accuracy: 0.5835\n",
      "Epoch 10/18\n",
      "27480/27480 [==============================] - 4s 156us/step - loss: 0.8515 - accuracy: 0.6076\n",
      "Epoch 11/18\n",
      "27480/27480 [==============================] - 4s 162us/step - loss: 0.8193 - accuracy: 0.6387\n",
      "Epoch 12/18\n",
      "27480/27480 [==============================] - 4s 162us/step - loss: 0.7928 - accuracy: 0.6513\n",
      "Epoch 13/18\n",
      "27480/27480 [==============================] - 4s 161us/step - loss: 0.7744 - accuracy: 0.6667\n",
      "Epoch 14/18\n",
      "27480/27480 [==============================] - 4s 160us/step - loss: 0.7591 - accuracy: 0.6763\n",
      "Epoch 15/18\n",
      "27480/27480 [==============================] - 4s 161us/step - loss: 0.7459 - accuracy: 0.6821\n",
      "Epoch 16/18\n",
      "27480/27480 [==============================] - 4s 161us/step - loss: 0.7337 - accuracy: 0.6880\n",
      "Epoch 17/18\n",
      "27480/27480 [==============================] - 4s 162us/step - loss: 0.7228 - accuracy: 0.6953\n",
      "Epoch 18/18\n",
      "27480/27480 [==============================] - 4s 161us/step - loss: 0.7136 - accuracy: 0.6982\n"
     ]
    },
    {
     "data": {
      "text/plain": [
       "66.10073571024336"
      ]
     },
     "execution_count": 86,
     "metadata": {},
     "output_type": "execute_result"
    }
   ],
   "source": [
    "model = Sequential()\n",
    "model.add(Embedding(vocab_size, dimension , input_length=sent_length))\n",
    "model.add(SpatialDropout1D(0.3))\n",
    "model.add(Conv1D(filters=32, kernel_size=3, padding='same', activation='relu'))\n",
    "model.add(MaxPooling1D(pool_size=2))\n",
    "model.add(Flatten())\n",
    "model.add(Dense(200, activation='relu'))\n",
    "model.add(Dropout(0.4))\n",
    "model.add(Dense(num_classes , activation='softmax'))\n",
    "optimizer = SGD(lr=0.001, momentum=0.95)\n",
    "# optimizer = optimizer = keras.optimizers.Adam(lr=0.001)\n",
    "model.compile(loss='categorical_crossentropy', optimizer=optimizer, metrics=['accuracy'])\n",
    "\n",
    "model.fit(train_x_wv,train_y,epochs=30)\n",
    "(metrics.accuracy_score(model.predict(test_x_wv).argmax(axis=-1), test_y)*100)\n"
   ]
  },
  {
   "cell_type": "markdown",
   "metadata": {},
   "source": [
    "### RNN- Long Short Term Model (LSTM)"
   ]
  },
  {
   "cell_type": "code",
   "execution_count": 51,
   "metadata": {},
   "outputs": [
    {
     "name": "stdout",
     "output_type": "stream",
     "text": [
      "Epoch 1/10\n",
      "27480/27480 [==============================] - 39s 1ms/step - loss: 1.0874 - accuracy: 0.4047\n",
      "Epoch 2/10\n",
      "27480/27480 [==============================] - 37s 1ms/step - loss: 1.0849 - accuracy: 0.4001\n",
      "Epoch 3/10\n",
      "27480/27480 [==============================] - 38s 1ms/step - loss: 1.0819 - accuracy: 0.4028\n",
      "Epoch 4/10\n",
      "27480/27480 [==============================] - 40s 1ms/step - loss: 1.0746 - accuracy: 0.4213 0s - loss: 1.0749 - \n",
      "Epoch 5/10\n",
      "27480/27480 [==============================] - 38s 1ms/step - loss: 0.9698 - accuracy: 0.5190\n",
      "Epoch 6/10\n",
      "27480/27480 [==============================] - 36s 1ms/step - loss: 0.9024 - accuracy: 0.5582\n",
      "Epoch 7/10\n",
      "27480/27480 [==============================] - 37s 1ms/step - loss: 0.8540 - accuracy: 0.5870\n",
      "Epoch 8/10\n",
      "27480/27480 [==============================] - 36s 1ms/step - loss: 0.7941 - accuracy: 0.6464\n",
      "Epoch 9/10\n",
      "27480/27480 [==============================] - 43s 2ms/step - loss: 0.7577 - accuracy: 0.6705\n",
      "Epoch 10/10\n",
      "27480/27480 [==============================] - 39s 1ms/step - loss: 0.7311 - accuracy: 0.6859\n"
     ]
    },
    {
     "data": {
      "text/plain": [
       "66.6383701188455"
      ]
     },
     "execution_count": 51,
     "metadata": {},
     "output_type": "execute_result"
    }
   ],
   "source": [
    "model = Sequential()\n",
    "model.add(Embedding(vocab_size, dimension , input_length=sent_length))\n",
    "model.add(SpatialDropout1D(0.3))\n",
    "model.add(LSTM(100, activation='relu', return_sequences=True))\n",
    "model.add(LSTM(100, activation='relu'))\n",
    "model.add(Dropout(0.4))\n",
    "model.add(Dense(num_classes , activation='softmax'))\n",
    "optimizer = SGD(lr=0.01, momentum=0.95)\n",
    "# optimizer = optimizer = keras.optimizers.Adam(lr=0.001)\n",
    "model.compile(loss='categorical_crossentropy', optimizer=optimizer, metrics=['accuracy'])\n",
    "\n",
    "model.fit(train_x_wv,train_y,epochs=10)\n",
    "(metrics.accuracy_score(model.predict(test_x_wv).argmax(axis=-1), test_y)*100)"
   ]
  },
  {
   "cell_type": "code",
   "execution_count": 50,
   "metadata": {},
   "outputs": [
    {
     "name": "stdout",
     "output_type": "stream",
     "text": [
      "Train: 0.720, Test: 0.662\n"
     ]
    },
    {
     "data": {
      "image/png": "[encoded data removed]",
      "text/plain": [
       "<Figure size 432x288 with 1 Axes>"
      ]
     },
     "metadata": {
      "needs_background": "light"
     },
     "output_type": "display_data"
    }
   ],
   "source": [
    "model = Sequential()\n",
    "model.add(Embedding(vocab_size, dimension , input_length=sent_length))\n",
    "model.add(SpatialDropout1D(0.3))\n",
    "model.add(LSTM(100, activation='relu', return_sequences=True))\n",
    "model.add(LSTM(100, activation='relu'))\n",
    "model.add(Dropout(0.4))\n",
    "model.add(Dense(num_classes , activation='softmax'))\n",
    "optimizer = SGD(lr=0.01, momentum=0.95)\n",
    "# optimizer = optimizer = keras.optimizers.Adam(lr=0.001)\n",
    "model.compile(loss='categorical_crossentropy', optimizer=optimizer, metrics=['accuracy'])\n",
    "\n",
    "history = model.fit(train_x_wv,np_utils.to_categorical(train.label), validation_data=(test_x_wv, np_utils.to_categorical(test.label)), epochs=12, verbose=0)\n",
    "# evaluate the model\n",
    "_, train_acc = model.evaluate(train_x_wv,np_utils.to_categorical(train.label), verbose=0)\n",
    "_, test_acc = model.evaluate(test_x_wv, np_utils.to_categorical(test.label), verbose=0)\n",
    "print('Train: %.3f, Test: %.3f' % (train_acc, test_acc))\n",
    "# plot training history\n",
    "plt.plot(history.history['accuracy'], label='train')\n",
    "plt.plot(history.history['val_accuracy'], label='test')\n",
    "plt.legend()\n",
    "plt.show()\n"
   ]
  },
  {
   "cell_type": "markdown",
   "metadata": {},
   "source": [
    "### RNN- Gated Recurrent Unit (GRU):"
   ]
  },
  {
   "cell_type": "code",
   "execution_count": 52,
   "metadata": {},
   "outputs": [
    {
     "name": "stdout",
     "output_type": "stream",
     "text": [
      "Epoch 1/10\n",
      "27480/27480 [==============================] - 46s 2ms/step - loss: 1.0884 - accuracy: 0.4039\n",
      "Epoch 2/10\n",
      "27480/27480 [==============================] - 41s 1ms/step - loss: 1.0853 - accuracy: 0.4031\n",
      "Epoch 3/10\n",
      "27480/27480 [==============================] - 42s 2ms/step - loss: 1.0691 - accuracy: 0.4281\n",
      "Epoch 4/10\n",
      "27480/27480 [==============================] - 39s 1ms/step - loss: 0.9498 - accuracy: 0.5298\n",
      "Epoch 5/10\n",
      "27480/27480 [==============================] - 39s 1ms/step - loss: 0.8494 - accuracy: 0.6048\n",
      "Epoch 6/10\n",
      "27480/27480 [==============================] - 40s 1ms/step - loss: 0.7945 - accuracy: 0.6506 0s - loss: 0.7\n",
      "Epoch 7/10\n",
      "27480/27480 [==============================] - 43s 2ms/step - loss: 0.7534 - accuracy: 0.6791\n",
      "Epoch 8/10\n",
      "27480/27480 [==============================] - 40s 1ms/step - loss: 0.7310 - accuracy: 0.6933\n",
      "Epoch 9/10\n",
      "27480/27480 [==============================] - 42s 2ms/step - loss: 0.7135 - accuracy: 0.7033\n",
      "Epoch 10/10\n",
      "27480/27480 [==============================] - 41s 2ms/step - loss: 0.6976 - accuracy: 0.7096\n"
     ]
    },
    {
     "data": {
      "text/plain": [
       "65.61969439728354"
      ]
     },
     "execution_count": 52,
     "metadata": {},
     "output_type": "execute_result"
    }
   ],
   "source": [
    "model = Sequential()\n",
    "model.add(Embedding(vocab_size, dimension , input_length=sent_length))\n",
    "model.add(SpatialDropout1D(0.3))\n",
    "model.add(GRU(100, activation='relu', return_sequences=True))\n",
    "model.add(GRU(100, activation='relu'))\n",
    "model.add(Dropout(0.4))\n",
    "model.add(Dense(num_classes , activation='softmax'))\n",
    "optimizer = SGD(lr=0.01, momentum=0.95)\n",
    "# optimizer = optimizer = keras.optimizers.Adam(lr=0.001)\n",
    "model.compile(loss='categorical_crossentropy', optimizer=optimizer, metrics=['accuracy'])\n",
    "\n",
    "model.fit(train_x_wv,train_y,epochs=10)\n",
    "(metrics.accuracy_score(model.predict(test_x_wv).argmax(axis=-1), test_y)*100)"
   ]
  },
  {
   "cell_type": "markdown",
   "metadata": {},
   "source": [
    "### Digging more into Metrics:"
   ]
  },
  {
   "cell_type": "code",
   "execution_count": 53,
   "metadata": {},
   "outputs": [],
   "source": [
    "from sklearn.metrics import confusion_matrix, f1_score,recall_score,precision_score,classification_report"
   ]
  },
  {
   "cell_type": "code",
   "execution_count": 54,
   "metadata": {},
   "outputs": [],
   "source": [
    "pred = model.predict(test_x_wv).argmax(axis=-1) \n",
    "actual = test_y"
   ]
  },
  {
   "cell_type": "code",
   "execution_count": 56,
   "metadata": {},
   "outputs": [
    {
     "name": "stdout",
     "output_type": "stream",
     "text": [
      "              precision    recall  f1-score   support\n",
      "\n",
      "    negative       0.79      0.47      0.59      1001\n",
      "     neutral       0.62      0.66      0.64      1430\n",
      "    positive       0.64      0.82      0.72      1103\n",
      "\n",
      "    accuracy                           0.66      3534\n",
      "   macro avg       0.68      0.65      0.65      3534\n",
      "weighted avg       0.67      0.66      0.65      3534\n",
      "\n"
     ]
    }
   ],
   "source": [
    "target_names = [\"negative\",\"neutral\",\"positive\"]\n",
    "print(classification_report(actual, pred, target_names=target_names))"
   ]
  },
  {
   "cell_type": "markdown",
   "metadata": {},
   "source": [
    "### With respect to the classification report:\n",
    "- The precision and recall for negative class is high and low respectively\n",
    "- High precision means there are few tweets that classifier predicts as negative class by mistake ( while they are not negative) in other words there is a low chance for a tweet to be predicted as negative while it is not.\n",
    "- Low recall shows that there are considerable number of tweets in dataset that are negative but the classifier predicts them as either positive or neutral class in other words there is a high chance that a tweet with negative sentiment is predicted as neutral or poostive.  \n",
    "- with repect to the results we can conclude that training data set does not represents the test data set well. "
   ]
  },
  {
   "cell_type": "code",
   "execution_count": null,
   "metadata": {},
   "outputs": [],
   "source": []
  }
 ],
 "metadata": {
  "kernelspec": {
   "display_name": "Python 3",
   "language": "python",
   "name": "python3"
  },
  "language_info": {
   "codemirror_mode": {
    "name": "ipython",
    "version": 3
   },
   "file_extension": ".py",
   "mimetype": "text/x-python",
   "name": "python",
   "nbconvert_exporter": "python",
   "pygments_lexer": "ipython3",
   "version": "3.7.3"
  }
 },
 "nbformat": 4,
 "nbformat_minor": 4
}
